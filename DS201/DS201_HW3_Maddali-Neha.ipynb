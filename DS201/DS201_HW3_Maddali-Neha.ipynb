{
 "cells": [
  {
   "cell_type": "code",
   "execution_count": null,
   "metadata": {},
   "outputs": [],
   "source": [
    "import pandas as pd\n",
    "import matplotlib.pyplot as plt\n",
    "import seaborn as sns"
   ]
  },
  {
   "cell_type": "code",
   "execution_count": null,
   "metadata": {},
   "outputs": [],
   "source": [
    "df = pd.read_csv('USvideos.csv')\n",
    "df = df.drop_duplicates()\n",
    "df = df.reset_index(drop = True)\n",
    "df_top100views = df.nlargest(100, 'views')\n",
    "sns.pairplot(df,vars = ['likes','views', 'category_id'], hue = 'category_id', diag_kind = 'hist')"
   ]
  },
  {
   "cell_type": "code",
   "execution_count": null,
   "metadata": {},
   "outputs": [],
   "source": [
    "sns.pairplot(df_top100views, vars = ['likes','views', 'category_id'], hue = 'category_id', diag_kind = 'hist')\n",
    "# In the plot that includes all of the videos, the graphs are a little harder to read due to the high amount of videos.\n",
    "# Since there are far less videos in the top 100, it's easier to make out individual points.\n",
    "# In the top 100 plot, it focuses more on videos with higher higher amounts of like, due to the \n",
    "# positive correlation between views and likes."
   ]
  },
  {
   "cell_type": "code",
   "execution_count": null,
   "metadata": {},
   "outputs": [],
   "source": []
  }
 ],
 "metadata": {
  "kernelspec": {
   "display_name": "Python 3",
   "language": "python",
   "name": "python3"
  },
  "language_info": {
   "codemirror_mode": {
    "name": "ipython",
    "version": 3
   },
   "file_extension": ".py",
   "mimetype": "text/x-python",
   "name": "python",
   "nbconvert_exporter": "python",
   "pygments_lexer": "ipython3",
   "version": "3.8.8"
  }
 },
 "nbformat": 4,
 "nbformat_minor": 4
}
