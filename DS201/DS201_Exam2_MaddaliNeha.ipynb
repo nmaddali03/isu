{
 "cells": [
  {
   "cell_type": "code",
   "execution_count": 1,
   "id": "heard-qatar",
   "metadata": {},
   "outputs": [],
   "source": [
    "#Part 1 DS201_Exam2_MaddaliNeha"
   ]
  },
  {
   "cell_type": "code",
   "execution_count": 2,
   "id": "intended-decrease",
   "metadata": {},
   "outputs": [],
   "source": [
    "#q1 answer: Linear regression is being used because it has found a line that best fits the points plotted.\n",
    "#The model also shows the error from the points and the line. The reason for using this specific model is to show the \n",
    "#relationship between the independent variable (advertising dollas) and the dependent variable (sales)."
   ]
  },
  {
   "cell_type": "code",
   "execution_count": 3,
   "id": "seasonal-record",
   "metadata": {},
   "outputs": [],
   "source": [
    "#q2 answer: the machine learning method of scikit-learn decision trees"
   ]
  },
  {
   "cell_type": "code",
   "execution_count": 4,
   "id": "organized-berlin",
   "metadata": {},
   "outputs": [],
   "source": [
    "#q3 answer: clf.predict([[...,...]]) will be the model that predicts \"cateorical values\""
   ]
  },
  {
   "cell_type": "code",
   "execution_count": 5,
   "id": "accompanied-thanks",
   "metadata": {},
   "outputs": [],
   "source": [
    "#q4 answer: In the blue square because there are 5 red triangles and 6 blue squares"
   ]
  },
  {
   "cell_type": "code",
   "execution_count": 6,
   "id": "dramatic-video",
   "metadata": {},
   "outputs": [],
   "source": [
    "#q5 answer: An unsupervised learning model such as a neural network if there is no label in the dataset"
   ]
  },
  {
   "cell_type": "code",
   "execution_count": 7,
   "id": "ordinary-mistress",
   "metadata": {},
   "outputs": [],
   "source": [
    "#Part 2 DS201_Exam2_MaddaliNeha"
   ]
  },
  {
   "cell_type": "code",
   "execution_count": 8,
   "id": "isolated-photography",
   "metadata": {},
   "outputs": [
    {
     "data": {
      "image/png": "[encoded data removed]",
      "text/plain": [
       "<Figure size 720x504 with 1 Axes>"
      ]
     },
     "metadata": {
      "needs_background": "light"
     },
     "output_type": "display_data"
    }
   ],
   "source": [
    "%matplotlib inline\n",
    "import pandas as pd\n",
    "import matplotlib.pyplot as plt\n",
    "#q6 answer:\n",
    "df = pd.read_csv('BreastCancer_data.csv')\n",
    "df = df.drop_duplicates()\n",
    "df = df.reset_index(drop = True)\n",
    "df.boxplot(column = 'radius_mean', by = 'diagnosis', figsize = (10, 7))\n",
    "plt.title('radius_mean by diagnosis')\n",
    "plt.show()"
   ]
  },
  {
   "cell_type": "code",
   "execution_count": 9,
   "id": "large-appendix",
   "metadata": {},
   "outputs": [
    {
     "ename": "ModuleNotFoundError",
     "evalue": "No module named 'scipy.version'",
     "output_type": "error",
     "traceback": [
      "\u001b[1;31m---------------------------------------------------------------------------\u001b[0m",
      "\u001b[1;31mModuleNotFoundError\u001b[0m                       Traceback (most recent call last)",
      "\u001b[1;32m<ipython-input-9-17b32aa5cadf>\u001b[0m in \u001b[0;36m<module>\u001b[1;34m\u001b[0m\n\u001b[0;32m      1\u001b[0m \u001b[1;31m#q7 answer:\u001b[0m\u001b[1;33m\u001b[0m\u001b[1;33m\u001b[0m\u001b[1;33m\u001b[0m\u001b[0m\n\u001b[1;32m----> 2\u001b[1;33m \u001b[1;32mimport\u001b[0m \u001b[0mseaborn\u001b[0m \u001b[1;32mas\u001b[0m \u001b[0msns\u001b[0m\u001b[1;33m\u001b[0m\u001b[1;33m\u001b[0m\u001b[0m\n\u001b[0m\u001b[0;32m      3\u001b[0m \u001b[1;32mimport\u001b[0m \u001b[0mnumpy\u001b[0m \u001b[1;32mas\u001b[0m \u001b[0mnp\u001b[0m\u001b[1;33m\u001b[0m\u001b[1;33m\u001b[0m\u001b[0m\n\u001b[0;32m      4\u001b[0m \u001b[0mdf1\u001b[0m \u001b[1;33m=\u001b[0m \u001b[0mdf\u001b[0m\u001b[1;33m[\u001b[0m\u001b[1;33m[\u001b[0m\u001b[1;34m'diagnosis'\u001b[0m\u001b[1;33m,\u001b[0m \u001b[1;34m'radius_mean'\u001b[0m\u001b[1;33m,\u001b[0m\u001b[1;34m'texture_mean'\u001b[0m\u001b[1;33m,\u001b[0m\u001b[1;34m'perimeter_mean'\u001b[0m\u001b[1;33m,\u001b[0m\u001b[1;34m'area_mean'\u001b[0m\u001b[1;33m,\u001b[0m\u001b[1;34m'smoothness_mean'\u001b[0m\u001b[1;33m,\u001b[0m\u001b[1;34m'compactness_mean'\u001b[0m\u001b[1;33m]\u001b[0m\u001b[1;33m]\u001b[0m\u001b[1;33m\u001b[0m\u001b[1;33m\u001b[0m\u001b[0m\n\u001b[0;32m      5\u001b[0m \u001b[0msns\u001b[0m\u001b[1;33m.\u001b[0m\u001b[0mpairplot\u001b[0m\u001b[1;33m(\u001b[0m\u001b[0mdf1\u001b[0m\u001b[1;33m,\u001b[0m \u001b[0mhue\u001b[0m \u001b[1;33m=\u001b[0m \u001b[1;34m'diagnosis'\u001b[0m\u001b[1;33m)\u001b[0m\u001b[1;33m\u001b[0m\u001b[1;33m\u001b[0m\u001b[0m\n",
      "\u001b[1;32m~\\anaconda3\\lib\\site-packages\\seaborn\\__init__.py\u001b[0m in \u001b[0;36m<module>\u001b[1;34m\u001b[0m\n\u001b[0;32m      1\u001b[0m \u001b[1;31m# Import seaborn objects\u001b[0m\u001b[1;33m\u001b[0m\u001b[1;33m\u001b[0m\u001b[1;33m\u001b[0m\u001b[0m\n\u001b[1;32m----> 2\u001b[1;33m \u001b[1;32mfrom\u001b[0m \u001b[1;33m.\u001b[0m\u001b[0mrcmod\u001b[0m \u001b[1;32mimport\u001b[0m \u001b[1;33m*\u001b[0m  \u001b[1;31m# noqa: F401,F403\u001b[0m\u001b[1;33m\u001b[0m\u001b[1;33m\u001b[0m\u001b[0m\n\u001b[0m\u001b[0;32m      3\u001b[0m \u001b[1;32mfrom\u001b[0m \u001b[1;33m.\u001b[0m\u001b[0mutils\u001b[0m \u001b[1;32mimport\u001b[0m \u001b[1;33m*\u001b[0m  \u001b[1;31m# noqa: F401,F403\u001b[0m\u001b[1;33m\u001b[0m\u001b[1;33m\u001b[0m\u001b[0m\n\u001b[0;32m      4\u001b[0m \u001b[1;32mfrom\u001b[0m \u001b[1;33m.\u001b[0m\u001b[0mpalettes\u001b[0m \u001b[1;32mimport\u001b[0m \u001b[1;33m*\u001b[0m  \u001b[1;31m# noqa: F401,F403\u001b[0m\u001b[1;33m\u001b[0m\u001b[1;33m\u001b[0m\u001b[0m\n\u001b[0;32m      5\u001b[0m \u001b[1;32mfrom\u001b[0m \u001b[1;33m.\u001b[0m\u001b[0mrelational\u001b[0m \u001b[1;32mimport\u001b[0m \u001b[1;33m*\u001b[0m  \u001b[1;31m# noqa: F401,F403\u001b[0m\u001b[1;33m\u001b[0m\u001b[1;33m\u001b[0m\u001b[0m\n",
      "\u001b[1;32m~\\anaconda3\\lib\\site-packages\\seaborn\\rcmod.py\u001b[0m in \u001b[0;36m<module>\u001b[1;34m\u001b[0m\n\u001b[0;32m      5\u001b[0m \u001b[1;32mimport\u001b[0m \u001b[0mmatplotlib\u001b[0m \u001b[1;32mas\u001b[0m \u001b[0mmpl\u001b[0m\u001b[1;33m\u001b[0m\u001b[1;33m\u001b[0m\u001b[0m\n\u001b[0;32m      6\u001b[0m \u001b[1;32mfrom\u001b[0m \u001b[0mcycler\u001b[0m \u001b[1;32mimport\u001b[0m \u001b[0mcycler\u001b[0m\u001b[1;33m\u001b[0m\u001b[1;33m\u001b[0m\u001b[0m\n\u001b[1;32m----> 7\u001b[1;33m \u001b[1;32mfrom\u001b[0m \u001b[1;33m.\u001b[0m \u001b[1;32mimport\u001b[0m \u001b[0mpalettes\u001b[0m\u001b[1;33m\u001b[0m\u001b[1;33m\u001b[0m\u001b[0m\n\u001b[0m\u001b[0;32m      8\u001b[0m \u001b[1;33m\u001b[0m\u001b[0m\n\u001b[0;32m      9\u001b[0m \u001b[1;33m\u001b[0m\u001b[0m\n",
      "\u001b[1;32m~\\anaconda3\\lib\\site-packages\\seaborn\\palettes.py\u001b[0m in \u001b[0;36m<module>\u001b[1;34m\u001b[0m\n\u001b[0;32m      7\u001b[0m \u001b[1;32mfrom\u001b[0m \u001b[1;33m.\u001b[0m\u001b[0mexternal\u001b[0m \u001b[1;32mimport\u001b[0m \u001b[0mhusl\u001b[0m\u001b[1;33m\u001b[0m\u001b[1;33m\u001b[0m\u001b[0m\n\u001b[0;32m      8\u001b[0m \u001b[1;33m\u001b[0m\u001b[0m\n\u001b[1;32m----> 9\u001b[1;33m \u001b[1;32mfrom\u001b[0m \u001b[1;33m.\u001b[0m\u001b[0mutils\u001b[0m \u001b[1;32mimport\u001b[0m \u001b[0mdesaturate\u001b[0m\u001b[1;33m,\u001b[0m \u001b[0mget_color_cycle\u001b[0m\u001b[1;33m\u001b[0m\u001b[1;33m\u001b[0m\u001b[0m\n\u001b[0m\u001b[0;32m     10\u001b[0m \u001b[1;32mfrom\u001b[0m \u001b[1;33m.\u001b[0m\u001b[0mcolors\u001b[0m \u001b[1;32mimport\u001b[0m \u001b[0mxkcd_rgb\u001b[0m\u001b[1;33m,\u001b[0m \u001b[0mcrayons\u001b[0m\u001b[1;33m\u001b[0m\u001b[1;33m\u001b[0m\u001b[0m\n\u001b[0;32m     11\u001b[0m \u001b[1;33m\u001b[0m\u001b[0m\n",
      "\u001b[1;32m~\\anaconda3\\lib\\site-packages\\seaborn\\utils.py\u001b[0m in \u001b[0;36m<module>\u001b[1;34m\u001b[0m\n\u001b[0;32m      8\u001b[0m \u001b[1;33m\u001b[0m\u001b[0m\n\u001b[0;32m      9\u001b[0m \u001b[1;32mimport\u001b[0m \u001b[0mnumpy\u001b[0m \u001b[1;32mas\u001b[0m \u001b[0mnp\u001b[0m\u001b[1;33m\u001b[0m\u001b[1;33m\u001b[0m\u001b[0m\n\u001b[1;32m---> 10\u001b[1;33m \u001b[1;32mfrom\u001b[0m \u001b[0mscipy\u001b[0m \u001b[1;32mimport\u001b[0m \u001b[0mstats\u001b[0m\u001b[1;33m\u001b[0m\u001b[1;33m\u001b[0m\u001b[0m\n\u001b[0m\u001b[0;32m     11\u001b[0m \u001b[1;32mimport\u001b[0m \u001b[0mpandas\u001b[0m \u001b[1;32mas\u001b[0m \u001b[0mpd\u001b[0m\u001b[1;33m\u001b[0m\u001b[1;33m\u001b[0m\u001b[0m\n\u001b[0;32m     12\u001b[0m \u001b[1;32mimport\u001b[0m \u001b[0mmatplotlib\u001b[0m \u001b[1;32mas\u001b[0m \u001b[0mmpl\u001b[0m\u001b[1;33m\u001b[0m\u001b[1;33m\u001b[0m\u001b[0m\n",
      "\u001b[1;32m~\\anaconda3\\lib\\site-packages\\scipy\\__init__.py\u001b[0m in \u001b[0;36m<module>\u001b[1;34m\u001b[0m\n\u001b[0;32m    125\u001b[0m         \u001b[1;32mraise\u001b[0m \u001b[0mImportError\u001b[0m\u001b[1;33m(\u001b[0m\u001b[0mmsg\u001b[0m\u001b[1;33m)\u001b[0m \u001b[1;32mfrom\u001b[0m \u001b[0me\u001b[0m\u001b[1;33m\u001b[0m\u001b[1;33m\u001b[0m\u001b[0m\n\u001b[0;32m    126\u001b[0m \u001b[1;33m\u001b[0m\u001b[0m\n\u001b[1;32m--> 127\u001b[1;33m     \u001b[1;32mfrom\u001b[0m \u001b[0mscipy\u001b[0m\u001b[1;33m.\u001b[0m\u001b[0mversion\u001b[0m \u001b[1;32mimport\u001b[0m \u001b[0mversion\u001b[0m \u001b[1;32mas\u001b[0m \u001b[0m__version__\u001b[0m\u001b[1;33m\u001b[0m\u001b[1;33m\u001b[0m\u001b[0m\n\u001b[0m\u001b[0;32m    128\u001b[0m \u001b[1;33m\u001b[0m\u001b[0m\n\u001b[0;32m    129\u001b[0m     \u001b[1;31m# Allow distributors to run custom init code\u001b[0m\u001b[1;33m\u001b[0m\u001b[1;33m\u001b[0m\u001b[1;33m\u001b[0m\u001b[0m\n",
      "\u001b[1;31mModuleNotFoundError\u001b[0m: No module named 'scipy.version'"
     ]
    }
   ],
   "source": [
    "#q7 answer:\n",
    "import seaborn as sns\n",
    "import numpy as np\n",
    "df1 = df[['diagnosis', 'radius_mean','texture_mean','perimeter_mean','area_mean','smoothness_mean','compactness_mean']]\n",
    "sns.pairplot(df1, hue = 'diagnosis')\n",
    "plt.show()"
   ]
  },
  {
   "cell_type": "code",
   "execution_count": null,
   "id": "beginning-biotechnology",
   "metadata": {},
   "outputs": [],
   "source": [
    "#q8 answer:\n",
    "from bokeh.models import ColumnDataSource\n",
    "from bokeh.io import output_notebook, show\n",
    "from bokeh.plotting import figure\n",
    "\n",
    "# separate benign and malignant\n",
    "benign = df[df['diagnosis'] == 'B']\n",
    "malignant = df[df['diagnosis'] == 'M']\n",
    "p = figure(title = \"Benign and Malignant texture_mean(Y) by area_mean(X) with size by Radius\")\n",
    "p.circle('area_mean', 'texture_mean', source = benign, color = 'green', size = 'radius_mean', legend = dict(value = 'Benign'),fill_alpha=.2)\n",
    "p.triangle('area_mean', 'texture_mean', source = malignant, color = 'red', size = 'radius_mean', legend = dict(value = 'Malignant'), fill_alpha=.2)\n",
    "p.legend.location = \"top_left\"\n",
    "p.xaxis.axis_label = 'area_mean'\n",
    "p.yaxis.axis_label = 'texture_mean'\n",
    "show(p)"
   ]
  },
  {
   "cell_type": "code",
   "execution_count": null,
   "id": "copyrighted-boxing",
   "metadata": {},
   "outputs": [],
   "source": [
    "#q9 answer:\n",
    "from sklearn.model_selection import train_test_split\n",
    "from sklearn.metrics import accuracy_score\n",
    "from sklearn.linear_model import LogisticRegression\n",
    "from sklearn.neighbors import KNeighborsClassifier\n",
    "import matplotlib.pyplot as plt\n",
    "X = df[['radius_mean','texture_mean','perimeter_mean','area_mean','smoothness_mean','compactness_mean']]\n",
    "Y = df[['diagnosis']]\n",
    "X_train, X_test, Y_train, Y_test = train_test_split(X, Y, test_size = 0.2, random_state = 1)\n",
    "\n",
    "# print out the shape of X,y,X_train, X_test, Y_train,Y_test\n",
    "print(X.shape, Y.shape, X_train.shape, X_test.shape, Y_train.shape, Y_test.shape)\n",
    "\n",
    "# report Logistic Regression accuracy of X,Y -- accuracy of ~88.6%\n",
    "log_reg_1 = LogisticRegression()\n",
    "log_reg_1.fit(X, Y)\n",
    "log_accuracy = log_reg_1.score(X_test, Y_test)\n",
    "print(log_accuracy)\n",
    "\n",
    "# report KNN accuracy of X,Y when k=5 -- accuracy of ~90.3%\n",
    "knn = KNeighborsClassifier(n_neighbors = 5)\n",
    "knn.fit(X, Y)\n",
    "preds = knn.predict(X_test)\n",
    "knn_accuracy = accuracy_score(y_true = Y_test, y_pred = preds)\n",
    "print(knn_accuracy)\n",
    "\n",
    "# loop k1-k25 and plot KNN accuracy of X,Y\n",
    "neighbours = list(range(1, 25))\n",
    "score = []\n",
    "for i in neighbours:\n",
    "    clf = KNeighborsClassifier(n_neighbors = i)\n",
    "    clf.fit(X_train, Y_train)\n",
    "    preds_neighbors = clf.predict(X_test)\n",
    "    score.append(accuracy_score(y_true = Y_test, y_pred = preds_neighbors))\n",
    "plt.plot(neighbours, score)\n",
    "plt.xlabel('Value of K for KNN of X')\n",
    "plt.ylabel('Testing Accuracy')\n",
    "plt.show()"
   ]
  }
 ],
 "metadata": {
  "kernelspec": {
   "display_name": "Python 3",
   "language": "python",
   "name": "python3"
  },
  "language_info": {
   "codemirror_mode": {
    "name": "ipython",
    "version": 3
   },
   "file_extension": ".py",
   "mimetype": "text/x-python",
   "name": "python",
   "nbconvert_exporter": "python",
   "pygments_lexer": "ipython3",
   "version": "3.8.8"
  }
 },
 "nbformat": 4,
 "nbformat_minor": 5
}
