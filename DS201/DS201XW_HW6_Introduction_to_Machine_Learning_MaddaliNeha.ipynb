{
  "nbformat": 4,
  "nbformat_minor": 0,
  "metadata": {
    "colab": {
      "name": "DS201XW-HW6-Introduction-to-Machine-Learning_MaddaliNeha.ipynb",
      "provenance": []
    },
    "kernelspec": {
      "name": "python3",
      "display_name": "Python 3"
    },
    "language_info": {
      "name": "python"
    }
  },
  "cells": [
    {
      "cell_type": "code",
      "metadata": {
        "colab": {
          "base_uri": "https://localhost:8080/"
        },
        "id": "p-cJ9bK8WBOV",
        "outputId": "6ae1fbbb-e93d-48bf-8f81-014bb6ebc6bf"
      },
      "source": [
        "import numpy as np\n",
        "import pandas as pd\n",
        "from sklearn import tree\n",
        "features = [[140, 1], [130, 1], [150, 0], [170, 0]]\n",
        "labels = ['apple', 'apple', 'orange', 'orange']\n",
        "clf = tree.DecisionTreeClassifier()\n",
        "clf = clf.fit(features, labels)\n",
        "clf.predict([[140, 1]])"
      ],
      "execution_count": 7,
      "outputs": [
        {
          "output_type": "execute_result",
          "data": {
            "text/plain": [
              "array(['apple'], dtype='<U6')"
            ]
          },
          "metadata": {
            "tags": []
          },
          "execution_count": 7
        }
      ]
    },
    {
      "cell_type": "code",
      "metadata": {
        "colab": {
          "base_uri": "https://localhost:8080/"
        },
        "id": "YXKVmwUSXiO6",
        "outputId": "6fb2d075-ff44-45e3-8ca8-8200ff374954"
      },
      "source": [
        "# The fruit with weight 140 and bumpy skin is predicted to be an apple\n",
        "# Weight is the more important feature when predicting with the decision tree model\n",
        "\n",
        "features2 = [[0,15],[0,25],[1,32],[0,40],[1,12],[1,14]]\n",
        "labels2 = [\"Pokemon Go\",\"WhatsApp\",\"Snap Chat\",\"WhatsApp\",\"Pokemon Go\",\"Pokemon Go\"]\n",
        "clf2 = tree.DecisionTreeClassifier()\n",
        "clf2\n",
        "clf2 = clf2.fit(features2,labels2)\n",
        "print(clf2.predict([[1,21]]))\n",
        "print(clf2.predict([[0,18]]))\n",
        "# Gender: M, Age 21 = Snap Chat\n",
        "# Gender: F, Age 18 = Pokemon Go"
      ],
      "execution_count": 8,
      "outputs": [
        {
          "output_type": "stream",
          "text": [
            "['Snap Chat']\n",
            "['Pokemon Go']\n"
          ],
          "name": "stdout"
        }
      ]
    }
  ]
}